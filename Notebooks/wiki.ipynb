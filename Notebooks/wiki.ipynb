{
 "cells": [
  {
   "cell_type": "code",
   "execution_count": null,
   "metadata": {},
   "outputs": [],
   "source": [
    "import re\n",
    "\n",
    "f = open(\"./wiki/bnwiki-latest-pages-articles.xml\", \"r\", encoding=\"utf-8\")\n",
    "result = re.search(\"<text.*>((.|\\n)*)<\\/text>\", f)\n",
    "\n",
    "with open(\"./wiki/test.txt\", \"w\", encoding='utf8') as f:\n",
    "    f.write(result.group(1))\n"
   ]
  },
  {
   "cell_type": "code",
   "execution_count": 6,
   "metadata": {},
   "outputs": [
    {
     "name": "stdout",
     "output_type": "stream",
     "text": [
      "Processing...\n",
      "The following line has incomplete info and therefore it's been removed from the dataset:\n",
      "['849773', '|নীতু চন্দ্র|', '0', '4032827', '2020-03-08T12:13:14Z', '', '', '70']\n",
      "The following line has incomplete info and therefore it's been removed from the dataset:\n",
      "['849785', '|রেডিফ|', '0', '4032869', '2020-03-08T12:28:32Z', '', '', '61']\n",
      "Done processing\n"
     ]
    },
    {
     "data": {
      "text/plain": [
       "True"
      ]
     },
     "execution_count": 6,
     "metadata": {},
     "output_type": "execute_result"
    }
   ],
   "source": [
    "import pandas as pd\n",
    "import wiki_dump_parser as parser\n",
    "\n",
    "parser.xml_to_csv(\"./wiki/bnwiki-latest-pages-articles.xml\")\n"
   ]
  },
  {
   "cell_type": "code",
   "execution_count": 7,
   "metadata": {},
   "outputs": [
    {
     "data": {
      "text/html": [
       "<div>\n",
       "<style scoped>\n",
       "    .dataframe tbody tr th:only-of-type {\n",
       "        vertical-align: middle;\n",
       "    }\n",
       "\n",
       "    .dataframe tbody tr th {\n",
       "        vertical-align: top;\n",
       "    }\n",
       "\n",
       "    .dataframe thead th {\n",
       "        text-align: right;\n",
       "    }\n",
       "</style>\n",
       "<table border=\"1\" class=\"dataframe\">\n",
       "  <thead>\n",
       "    <tr style=\"text-align: right;\">\n",
       "      <th></th>\n",
       "      <th>page_id</th>\n",
       "      <th>page_title</th>\n",
       "      <th>page_ns</th>\n",
       "      <th>revision_id</th>\n",
       "      <th>timestamp</th>\n",
       "      <th>contributor_id</th>\n",
       "      <th>contributor_name</th>\n",
       "      <th>bytes</th>\n",
       "    </tr>\n",
       "  </thead>\n",
       "  <tbody>\n",
       "    <tr>\n",
       "      <th>0</th>\n",
       "      <td>4</td>\n",
       "      <td>মিডিয়াউইকি:Category</td>\n",
       "      <td>8</td>\n",
       "      <td>4851</td>\n",
       "      <td>2005-03-19T21:01:11Z</td>\n",
       "      <td>40</td>\n",
       "      <td>Zaheen</td>\n",
       "      <td>33</td>\n",
       "    </tr>\n",
       "    <tr>\n",
       "      <th>1</th>\n",
       "      <td>5</td>\n",
       "      <td>মিডিয়াউইকি:Category header</td>\n",
       "      <td>8</td>\n",
       "      <td>8349</td>\n",
       "      <td>2005-11-11T12:41:23Z</td>\n",
       "      <td>40</td>\n",
       "      <td>Zaheen</td>\n",
       "      <td>109</td>\n",
       "    </tr>\n",
       "    <tr>\n",
       "      <th>2</th>\n",
       "      <td>15</td>\n",
       "      <td>মিডিয়াউইকি:Wikititlesuffix</td>\n",
       "      <td>8</td>\n",
       "      <td>4862</td>\n",
       "      <td>2004-12-10T20:27:19Z</td>\n",
       "      <td>14</td>\n",
       "      <td>Hiwamy</td>\n",
       "      <td>30</td>\n",
       "    </tr>\n",
       "    <tr>\n",
       "      <th>3</th>\n",
       "      <td>17</td>\n",
       "      <td>মিডিয়াউইকি:Bugreportspage</td>\n",
       "      <td>8</td>\n",
       "      <td>204295</td>\n",
       "      <td>2007-09-08T17:25:21Z</td>\n",
       "      <td>201</td>\n",
       "      <td>Bellayet</td>\n",
       "      <td>52</td>\n",
       "    </tr>\n",
       "    <tr>\n",
       "      <th>4</th>\n",
       "      <td>19</td>\n",
       "      <td>টেমপ্লেট:Sitesupportpage</td>\n",
       "      <td>10</td>\n",
       "      <td>4866</td>\n",
       "      <td>2004-01-29T14:24:51Z</td>\n",
       "      <td>891</td>\n",
       "      <td>MediaWiki default</td>\n",
       "      <td>23</td>\n",
       "    </tr>\n",
       "  </tbody>\n",
       "</table>\n",
       "</div>"
      ],
      "text/plain": [
       "   page_id                   page_title  page_ns  revision_id  \\\n",
       "0        4         মিডিয়াউইকি:Category        8         4851   \n",
       "1        5  মিডিয়াউইকি:Category header        8         8349   \n",
       "2       15  মিডিয়াউইকি:Wikititlesuffix        8         4862   \n",
       "3       17   মিডিয়াউইকি:Bugreportspage        8       204295   \n",
       "4       19     টেমপ্লেট:Sitesupportpage       10         4866   \n",
       "\n",
       "              timestamp contributor_id   contributor_name  bytes  \n",
       "0  2005-03-19T21:01:11Z             40             Zaheen     33  \n",
       "1  2005-11-11T12:41:23Z             40             Zaheen    109  \n",
       "2  2004-12-10T20:27:19Z             14             Hiwamy     30  \n",
       "3  2007-09-08T17:25:21Z            201           Bellayet     52  \n",
       "4  2004-01-29T14:24:51Z            891  MediaWiki default     23  "
      ]
     },
     "execution_count": 7,
     "metadata": {},
     "output_type": "execute_result"
    }
   ],
   "source": [
    "\n",
    "df = pd.read_csv('./wiki/bnwiki-latest-pages-articles.csv', quotechar='|', index_col = False)\n",
    "df.head()"
   ]
  },
  {
   "cell_type": "code",
   "execution_count": null,
   "metadata": {},
   "outputs": [],
   "source": [
    "from wiki_dump_reader import Cleaner, iterate\n",
    "\n",
    "cleaner = Cleaner()\n",
    "cleaned_text = \"\"\n",
    "for title, text in iterate('./wiki/bnwiki-latest-pages-articles.xml'):\n",
    "    text = cleaner.clean_text(text)\n",
    "    cleaned_text, _ = cleaner.build_links(text)\n",
    "\n",
    "print(cleaned_text)"
   ]
  }
 ],
 "metadata": {
  "interpreter": {
   "hash": "469172294031c43dd15525362717bf7080fe5b8ed82c9898b2065b33b35d2b1e"
  },
  "kernelspec": {
   "display_name": "Python 3.9.7 ('base')",
   "language": "python",
   "name": "python3"
  },
  "language_info": {
   "codemirror_mode": {
    "name": "ipython",
    "version": 3
   },
   "file_extension": ".py",
   "mimetype": "text/x-python",
   "name": "python",
   "nbconvert_exporter": "python",
   "pygments_lexer": "ipython3",
   "version": "3.9.7"
  },
  "orig_nbformat": 4
 },
 "nbformat": 4,
 "nbformat_minor": 2
}
