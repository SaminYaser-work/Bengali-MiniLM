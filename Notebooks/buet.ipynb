{
 "cells": [
  {
   "cell_type": "code",
   "execution_count": 3,
   "metadata": {},
   "outputs": [],
   "source": [
    "# pip install git+https://github.com/csebuetnlp/normalizer\n",
    "from normalizer import normalize \n",
    "from transformers import pipeline\n",
    "from transformers import AutoModelForMaskedLM, AutoTokenizer\n",
    "# from columnar import columnar\n",
    "\n",
    "path = \"../Models/banglabert_generator\"\n",
    "\n",
    "model = AutoModelForMaskedLM.from_pretrained(path)\n",
    "tokenizer = AutoTokenizer.from_pretrained(path)\n",
    "\n",
    "\n",
    "fill_mask = pipeline(\n",
    "    \"fill-mask\",\n",
    "    model=model,\n",
    "    tokenizer=tokenizer\n",
    ")\n",
    "\n"
   ]
  },
  {
   "cell_type": "code",
   "execution_count": 4,
   "metadata": {},
   "outputs": [
    {
     "name": "stdout",
     "output_type": "stream",
     "text": [
      "আজকে আমার মন [MASK] নেই\n",
      "ভালো\n",
      "ভাল\n",
      "খারাপ\n",
      "ঠিক\n",
      "বসে\n"
     ]
    }
   ],
   "source": [
    "input_string = f'আজকে আমার মন <mask> নেই'\n",
    "\n",
    "input_string = input_string.split('<mask>')\n",
    "\n",
    "if input_string[1] == '':\n",
    "    input_string = f'{input_string[0].strip()} {fill_mask.tokenizer.mask_token}'\n",
    "else:\n",
    "    input_string = f'{input_string[0].strip()} {fill_mask.tokenizer.mask_token} {input_string[1].strip()}'\n",
    "\n",
    "\n",
    "print(input_string)\n",
    "\n",
    "result = fill_mask(\n",
    "    normalize(input_string)\n",
    ")\n",
    "\n",
    "res = []\n",
    "for dict in result:\n",
    "  res.append(dict['token_str'])\n",
    "res = '\\n'.join(res)\n",
    "\n",
    "\n",
    "print(res)\n",
    "\n",
    "\n",
    "# data = []\n",
    "# headers = ['Word', 'Score', 'Full Sentence']\n",
    "\n",
    "# for dict in result:\n",
    "# #   print(dict['token_str'], '\\t\\t\\t' , (dict['score'] * 100), '%')\n",
    "#   data.append([dict['token_str'], (dict['score'] * 100), dict['sequence']])\n",
    "\n",
    "\n",
    "# table = columnar(data, headers, no_borders=True)\n",
    "# print(table)"
   ]
  }
 ],
 "metadata": {
  "kernelspec": {
   "display_name": "Python 3.10.5 64-bit",
   "language": "python",
   "name": "python3"
  },
  "language_info": {
   "codemirror_mode": {
    "name": "ipython",
    "version": 3
   },
   "file_extension": ".py",
   "mimetype": "text/x-python",
   "name": "python",
   "nbconvert_exporter": "python",
   "pygments_lexer": "ipython3",
   "version": "3.10.5"
  },
  "orig_nbformat": 4,
  "vscode": {
   "interpreter": {
    "hash": "e7370f93d1d0cde622a1f8e1c04877d8463912d04d973331ad4851f04de6915a"
   }
  }
 },
 "nbformat": 4,
 "nbformat_minor": 2
}
