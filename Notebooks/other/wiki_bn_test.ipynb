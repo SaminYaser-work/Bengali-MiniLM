{
 "cells": [
  {
   "cell_type": "code",
   "execution_count": 4,
   "metadata": {},
   "outputs": [],
   "source": [
    "from transformers import AutoTokenizer, AutoModelForMaskedLM, pipeline"
   ]
  },
  {
   "cell_type": "code",
   "execution_count": 5,
   "metadata": {},
   "outputs": [],
   "source": [
    "tokenizer = AutoTokenizer.from_pretrained(\"xlm-roberta-base\")\n",
    "model = AutoModelForMaskedLM.from_pretrained(\"f00d/Multilingual-MiniLM-L12-H384-MLM-finetuned-wikipedia_bn\")\n",
    "generator = pipeline(task=\"fill-mask\", model=model, tokenizer=tokenizer)"
   ]
  },
  {
   "cell_type": "code",
   "execution_count": 13,
   "metadata": {},
   "outputs": [
    {
     "data": {
      "text/plain": [
       "[{'score': 0.14776912331581116,\n",
       "  'token': 2801,\n",
       "  'token_str': 'য়',\n",
       "  'sequence': 'বাংলা ভাষায়'},\n",
       " {'score': 0.12454354017972946,\n",
       "  'token': 63456,\n",
       "  'token_str': 'সমূহ',\n",
       "  'sequence': 'বাংলা ভাষাসমূহ'},\n",
       " {'score': 0.11908351629972458,\n",
       "  'token': 999,\n",
       "  'token_str': 'র',\n",
       "  'sequence': 'বাংলা ভাষার'},\n",
       " {'score': 0.033420052379369736,\n",
       "  'token': 179720,\n",
       "  'token_str': 'বোর্ড',\n",
       "  'sequence': 'বাংলা ভাষা বোর্ড'},\n",
       " {'score': 0.030563989654183388,\n",
       "  'token': 128513,\n",
       "  'token_str': 'সাহিত্য',\n",
       "  'sequence': 'বাংলা ভাষা সাহিত্য'}]"
      ]
     },
     "execution_count": 13,
     "metadata": {},
     "output_type": "execute_result"
    }
   ],
   "source": [
    "generator(\"বাংলা ভাষা <mask>\")"
   ]
  },
  {
   "cell_type": "code",
   "execution_count": 18,
   "metadata": {},
   "outputs": [
    {
     "name": "stderr",
     "output_type": "stream",
     "text": [
      "Some weights of BertForMaskedLM were not initialized from the model checkpoint at microsoft/Multilingual-MiniLM-L12-H384 and are newly initialized: ['cls.predictions.transform.LayerNorm.weight', 'cls.predictions.decoder.weight', 'cls.predictions.bias', 'cls.predictions.transform.dense.weight', 'cls.predictions.transform.LayerNorm.bias', 'cls.predictions.transform.dense.bias']\n",
      "You should probably TRAIN this model on a down-stream task to be able to use it for predictions and inference.\n"
     ]
    }
   ],
   "source": [
    "tokenizer2 = AutoTokenizer.from_pretrained(\"microsoft/Multilingual-MiniLM-L12-H384\")\n",
    "model2 = AutoModelForMaskedLM.from_pretrained(\"microsoft/Multilingual-MiniLM-L12-H384\")\n",
    "generator2 = pipeline(task=\"fill-mask\", model=model2, tokenizer=tokenizer2)"
   ]
  },
  {
   "cell_type": "code",
   "execution_count": 20,
   "metadata": {},
   "outputs": [
    {
     "data": {
      "text/plain": [
       "[{'score': 0.0017804184462875128,\n",
       "  'token': 23928,\n",
       "  'token_str': '함',\n",
       "  'sequence': 'আমি বাংলায় 함 গাই।'},\n",
       " {'score': 0.001448543625883758,\n",
       "  'token': 78454,\n",
       "  'token_str': 'നിന്നു',\n",
       "  'sequence': 'আমি বাংলায় നിന്നു গাই।'},\n",
       " {'score': 0.001065994380041957,\n",
       "  'token': 18359,\n",
       "  'token_str': 'вест',\n",
       "  'sequence': 'আমি বাংলায় вест গাই।'},\n",
       " {'score': 0.0010412082774564624,\n",
       "  'token': 18132,\n",
       "  'token_str': 'በሚ',\n",
       "  'sequence': 'আমি বাংলায়  በሚ গাই।'},\n",
       " {'score': 0.0009884791215881705,\n",
       "  'token': 56064,\n",
       "  'token_str': 'നിന്നു',\n",
       "  'sequence': 'আমি বাংলায়  നിന്നു গাই।'}]"
      ]
     },
     "execution_count": 20,
     "metadata": {},
     "output_type": "execute_result"
    }
   ],
   "source": [
    "generator2(\"আমি বাংলায় <mask> গাই।\")"
   ]
  }
 ],
 "metadata": {
  "kernelspec": {
   "display_name": "Python 3.9.7 ('base')",
   "language": "python",
   "name": "python3"
  },
  "language_info": {
   "codemirror_mode": {
    "name": "ipython",
    "version": 3
   },
   "file_extension": ".py",
   "mimetype": "text/x-python",
   "name": "python",
   "nbconvert_exporter": "python",
   "pygments_lexer": "ipython3",
   "version": "3.9.7"
  },
  "orig_nbformat": 4,
  "vscode": {
   "interpreter": {
    "hash": "469172294031c43dd15525362717bf7080fe5b8ed82c9898b2065b33b35d2b1e"
   }
  }
 },
 "nbformat": 4,
 "nbformat_minor": 2
}
