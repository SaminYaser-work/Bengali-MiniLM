{
 "cells": [
  {
   "cell_type": "code",
   "execution_count": 1,
   "metadata": {},
   "outputs": [],
   "source": [
    "import re\n",
    "from tqdm import tqdm"
   ]
  },
  {
   "cell_type": "code",
   "execution_count": 3,
   "metadata": {},
   "outputs": [
    {
     "name": "stderr",
     "output_type": "stream",
     "text": [
      "13207294it [10:50, 20316.30it/s]\n"
     ]
    }
   ],
   "source": [
    "line = \"\"\n",
    "bd_unicode_range_inverse = r'[^\\u0980-\\u09ff\\s।]'\n",
    "\n",
    "with open('../Datasets/oscar/all_clean_sentence.txt', 'w', encoding='utf-8') as fout:\n",
    "  with open('../Datasets/oscar/all.txt', 'r', encoding='utf-8') as fin:\n",
    "    for _, line in tqdm(enumerate(fin)):\n",
    "      if line:\n",
    "        line = re.sub(bd_unicode_range_inverse, ' ', line)  # Removing foreign characters\n",
    "        line = line.strip()                                 # Removing leading and trailing spaces\n",
    "        line = re.sub(r'\\s+', ' ', line)                    # Removing multiple spaces\n",
    "\n",
    "        if '।' in line:\n",
    "          line = re.sub(r'।', '\\n', line)                   # One sentence per line\n",
    "          fout.write(line)\n",
    "        else:\n",
    "          fout.write(line + ' ')"
   ]
  },
  {
   "cell_type": "code",
   "execution_count": 3,
   "metadata": {},
   "outputs": [
    {
     "name": "stdout",
     "output_type": "stream",
     "text": [
      "^C\n"
     ]
    }
   ],
   "source": [
    "#!wc -w ../Datasets/oscar/all_clean_sentence.txt\n",
    "# More than 520 crore of words"
   ]
  },
  {
   "cell_type": "code",
   "execution_count": 2,
   "metadata": {},
   "outputs": [
    {
     "name": "stdout",
     "output_type": "stream",
     "text": [
      "শেষের ওভারের জন্য পাঞ্জাব আবার বাঁচিয়ে রেখেছিল দুই ফাস্ট বোলার মোহাম্মদ শামি ও শেলডন কটরেলকে\n",
      "\n"
     ]
    }
   ],
   "source": []
  }
 ],
 "metadata": {
  "kernelspec": {
   "display_name": "Python 3.10.5 64-bit",
   "language": "python",
   "name": "python3"
  },
  "language_info": {
   "codemirror_mode": {
    "name": "ipython",
    "version": 3
   },
   "file_extension": ".py",
   "mimetype": "text/x-python",
   "name": "python",
   "nbconvert_exporter": "python",
   "pygments_lexer": "ipython3",
   "version": "3.10.5"
  },
  "orig_nbformat": 4,
  "vscode": {
   "interpreter": {
    "hash": "e7370f93d1d0cde622a1f8e1c04877d8463912d04d973331ad4851f04de6915a"
   }
  }
 },
 "nbformat": 4,
 "nbformat_minor": 2
}
